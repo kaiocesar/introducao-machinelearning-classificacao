{
 "cells": [
  {
   "cell_type": "code",
   "execution_count": 2,
   "metadata": {},
   "outputs": [],
   "source": [
    "from sklearn.svm import LinearSVC\n",
    "from sklearn.metrics import accuracy_score"
   ]
  },
  {
   "cell_type": "code",
   "execution_count": 3,
   "metadata": {},
   "outputs": [],
   "source": [
    "#features (1 = sim, 0 = não)\n",
    "# pelo longo?\n",
    "# perna curta?\n",
    "# late?"
   ]
  },
  {
   "cell_type": "code",
   "execution_count": 4,
   "metadata": {},
   "outputs": [
    {
     "data": {
      "text/plain": [
       "LinearSVC(C=1.0, class_weight=None, dual=True, fit_intercept=True,\n",
       "     intercept_scaling=1, loss='squared_hinge', max_iter=1000,\n",
       "     multi_class='ovr', penalty='l2', random_state=None, tol=0.0001,\n",
       "     verbose=0)"
      ]
     },
     "execution_count": 4,
     "metadata": {},
     "output_type": "execute_result"
    }
   ],
   "source": [
    "treino_x = [[0,1,0], [0,1,1] ,[1,1,0], \n",
    "         [0,1,1], [1,0,1], [1,1,1]]\n",
    "\n",
    "# porco, porco, porco, cão, cão, cão\n",
    "treino_y = [1, 1, 1, 0, 0, 0]\n",
    "model = LinearSVC()\n",
    "\n",
    "# treinamento supervisionado\n",
    "model.fit(treino_x, treino_y)"
   ]
  },
  {
   "cell_type": "code",
   "execution_count": 5,
   "metadata": {},
   "outputs": [],
   "source": [
    "teste_x = [[1, 1, 1], [1,1,0], [0,1,1]]\n",
    "teste_y = [0, 1, 1]\n",
    "previsao = model.predict(teste_x)"
   ]
  },
  {
   "cell_type": "code",
   "execution_count": 6,
   "metadata": {},
   "outputs": [
    {
     "name": "stdout",
     "output_type": "stream",
     "text": [
      "Acurácia do resultado é 66.67\n"
     ]
    }
   ],
   "source": [
    "# old school\n",
    "# taxa_acuracia = ((previsao == teste_y).sum() / len(previsao)) * 100\n",
    "\n",
    "# utilizando a função accuracy_score\n",
    "taxa_acuracia = accuracy_score(teste_y, previsao) * 100\n",
    "print(\"Acurácia do resultado é %.2f\" % taxa_acuracia)"
   ]
  }
 ],
 "metadata": {
  "kernelspec": {
   "display_name": "Python 3",
   "language": "python",
   "name": "python3"
  },
  "language_info": {
   "codemirror_mode": {
    "name": "ipython",
    "version": 3
   },
   "file_extension": ".py",
   "mimetype": "text/x-python",
   "name": "python",
   "nbconvert_exporter": "python",
   "pygments_lexer": "ipython3",
   "version": "3.7.1"
  }
 },
 "nbformat": 4,
 "nbformat_minor": 2
}
