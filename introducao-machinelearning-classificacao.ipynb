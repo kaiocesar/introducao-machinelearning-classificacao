{
 "cells": [
  {
   "cell_type": "code",
   "execution_count": 7,
   "metadata": {},
   "outputs": [],
   "source": [
    "from sklearn.svm import LinearSVC\n",
    "from sklearn.metrics import accuracy_score"
   ]
  },
  {
   "cell_type": "code",
   "execution_count": 2,
   "metadata": {},
   "outputs": [],
   "source": [
    "#features (1 = sim, 0 = não)\n",
    "# pelo longo?\n",
    "# perna curta?\n",
    "# late?"
   ]
  },
  {
   "cell_type": "code",
   "execution_count": 9,
   "metadata": {},
   "outputs": [
    {
     "data": {
      "text/plain": [
       "LinearSVC(C=1.0, class_weight=None, dual=True, fit_intercept=True,\n",
       "     intercept_scaling=1, loss='squared_hinge', max_iter=1000,\n",
       "     multi_class='ovr', penalty='l2', random_state=None, tol=0.0001,\n",
       "     verbose=0)"
      ]
     },
     "execution_count": 9,
     "metadata": {},
     "output_type": "execute_result"
    }
   ],
   "source": [
    "dados = [[0,1,0], [0,1,1] ,[1,1,0], \n",
    "         [0,1,1], [1,0,1], [1,1,1]]\n",
    "\n",
    "# porco, porco, porco, cão, cão, cão\n",
    "classes = [1, 1, 1, 0, 0, 0]\n",
    "model = LinearSVC()\n",
    "\n",
    "# treinamento supervisionado\n",
    "model.fit(dados, classes)"
   ]
  },
  {
   "cell_type": "code",
   "execution_count": 11,
   "metadata": {},
   "outputs": [],
   "source": [
    "dados_treino = [[1, 1, 1], [1,1,0], [0,1,1]]\n",
    "previsao = model.predict(dados_treino)\n",
    "resultado_treino_esperado = [0, 1, 1]"
   ]
  },
  {
   "cell_type": "code",
   "execution_count": 19,
   "metadata": {},
   "outputs": [
    {
     "data": {
      "text/plain": [
       "66.66666666666666"
      ]
     },
     "execution_count": 19,
     "metadata": {},
     "output_type": "execute_result"
    }
   ],
   "source": [
    "# old school\n",
    "# taxa_acuracia = ((previsao == resultado_treino_esperado).sum() / len(previsao)) * 100\n",
    "\n",
    "# utilizando a função accuracy_score\n",
    "taxa_acuracia = accuracy_score(resultado_treino_esperado, previsao) * 100\n",
    "taxa_acuracia"
   ]
  }
 ],
 "metadata": {
  "kernelspec": {
   "display_name": "Python 3",
   "language": "python",
   "name": "python3"
  },
  "language_info": {
   "codemirror_mode": {
    "name": "ipython",
    "version": 3
   },
   "file_extension": ".py",
   "mimetype": "text/x-python",
   "name": "python",
   "nbconvert_exporter": "python",
   "pygments_lexer": "ipython3",
   "version": "3.7.1"
  }
 },
 "nbformat": 4,
 "nbformat_minor": 2
}
